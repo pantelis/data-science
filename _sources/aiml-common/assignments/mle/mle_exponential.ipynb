{
 "cells": [
  {
   "cell_type": "markdown",
   "metadata": {},
   "source": [
    "<a href=\"https://colab.research.google.com/github/pantelis/aiml-common/blob/master/assignments/mle/mle_exponential.ipynb\" target=\"_parent\"><img src=\"https://colab.research.google.com/assets/colab-badge.svg\" alt=\"Open In Colab\"/></a>"
   ]
  },
  {
   "cell_type": "markdown",
   "metadata": {
    "id": "FWlVpbDvyLZC"
   },
   "source": [
    "# Maximum Likelihood Parameter Estimation\n",
    "\n",
    "RUBRIC:\n",
    "\n",
    "1. If you provide just the plots/code, you will be granted 50% of the points. To win the remaining 50% you will need clear documentation.\n",
    "\n",
    "2. We need to see a clear explanation of all the stages of developing the solutions which means that you need to explain the code in a way that the writeup is understood by fellow students.\n",
    "\n",
    "3. Type inline with your Colab notebook your tutorial explanations. Equations can be typed in markdown using Latex syntax notation. If you prefer plain Python you can also include markdown as a separate file but you do need to ensure that all plots are inline to that markdown document and are parsed correctly by Github.\n",
    "\n",
    "4. Submit in the learning management system of your school (Canvas, Brightspace etc.) by first sharing the Colab or Github repo with the TA so that they can open it without any access restrictions. Any notebook that cant be accessed will receive the grade of 0. "
   ]
  },
  {
   "cell_type": "markdown",
   "metadata": {
    "id": "lCty1alAZ0o4"
   },
   "source": [
    "## Intro:\n",
    "\n",
    "**What is the exponential distribution?**\n",
    "\n",
    "The exponential distribution is a probability distribution that describes time between events in a Poisson process. There is a strong relationship between the Poisson distribution and the Exponential distribution. For example, let’s say a Poisson distribution models the number of births in a given time period. The time in between each birth can be modeled with an exponential distribution (Young & Young, 1998).\n",
    "\n",
    "**Poisson vs Exponential?**\n",
    "\n",
    "Let’s say a Youtube channel is interested in the number of views per hour. Arrivals per hour has a Poisson 120 arrival rate, which means that 120 viewers arrive per hour. This could also be said that “The expected mean inter-arrival time is 0.5 minutes”, because a viewer can be expected every 1/2 minute (30 seconds).\n",
    "\n",
    "The exponential distribution models this process, so we could write:\n",
    "Poisson 120 = Exponential 0.5\n",
    "\n",
    "The units for the Poisson process are viewers and the units for the exponential are minutes.\n",
    "\n",
    "\n",
    "**Videos that may help:**\n",
    "1.  https://www.youtube.com/watch?v=p3T-_LMrvBc&ab_channel=StatQuestwithJoshStarmer\n",
    "2. https://www.youtube.com/watch?v=2kg1O0j1J9c&ab_channel=zedstatistics\n",
    "\n",
    "\n"
   ]
  },
  {
   "cell_type": "markdown",
   "metadata": {
    "id": "5lcX212dYY7Q"
   },
   "source": [
    "## Part 1 (40 points):\n",
    "\n",
    "**A)** Let X = amount of time (in minutes) a ice cream man gets a new customer at his cart. The time is known to have an exponential distribution with the average amount of time between a new customer being four minutes. \n",
    "\n",
    "Plot the probablity density function of the exponential distribution of this ice cream man getting a customer every 4 minutes. (20 points)\n",
    "\n",
    "You may use the Python libraries to calculate the exponential distribution and to plot. https://docs.scipy.org/doc/scipy/reference/generated/scipy.stats.expon.html"
   ]
  },
  {
   "cell_type": "code",
   "execution_count": null,
   "metadata": {
    "id": "4RneUSLOqVb_"
   },
   "outputs": [],
   "source": []
  },
  {
   "cell_type": "markdown",
   "metadata": {
    "id": "T9kdxDU9dgnJ"
   },
   "source": [
    "**B)** Now assume on a very hot day the ice cream man gets X customers and each new customer comes every 4 minutes. Generate X samples from the exponential distribution where X = 200 and the rate = 4. Plot the samples on a graph to show how they look graphically. Does it look similar to the graph above? (20 points)"
   ]
  },
  {
   "cell_type": "code",
   "execution_count": null,
   "metadata": {
    "id": "pkBM-lroqZOd"
   },
   "outputs": [],
   "source": []
  },
  {
   "cell_type": "markdown",
   "metadata": {
    "id": "7thN1KwBZ0up"
   },
   "source": [
    "## Part 2 (60 points)\n",
    "\n",
    "Assume that you are given the customer data generated in Part 1, implement a Gradient Descent algorithm from scratch that will estimate the Exponential distribution according to the Maximum Likelihood criterion.\n",
    "\n",
    "Answer the following:\n",
    "\n",
    "1. Plot the negative log likelihood of the exponential distribution. (20 points)\n",
    "2. What is the lambda MLE of the generated data? (20 points)\n",
    "3. Plot the estimated lambda vs iterations to showcase convergence towards the true lambda (20 points)\n",
    "\n",
    "\n",
    "Read this article to obtain the likelihood and negative log likelihood function of the exponential distribution: https://www.statlect.com/fundamentals-of-statistics/exponential-distribution-maximum-likelihood\n"
   ]
  },
  {
   "cell_type": "code",
   "execution_count": null,
   "metadata": {
    "id": "R4Q5H9hrqage"
   },
   "outputs": [],
   "source": []
  }
 ],
 "metadata": {
  "colab": {
   "collapsed_sections": [],
   "name": "mle-exponential.ipynb",
   "provenance": []
  },
  "kernelspec": {
   "display_name": "Python 3 (ipykernel)",
   "language": "python",
   "name": "python3"
  },
  "language_info": {
   "codemirror_mode": {
    "name": "ipython",
    "version": 3
   },
   "file_extension": ".py",
   "mimetype": "text/x-python",
   "name": "python",
   "nbconvert_exporter": "python",
   "pygments_lexer": "ipython3",
   "version": "3.9.7"
  }
 },
 "nbformat": 4,
 "nbformat_minor": 4
}
