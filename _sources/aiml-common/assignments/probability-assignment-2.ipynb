{
  "cells": [
    {
      "cell_type": "markdown",
      "metadata": {
        "colab_type": "text",
        "id": "view-in-github"
      },
      "source": [
        "<a href=\"https://colab.research.google.com/github/pantelis/aiml-common/blob/master/assignments/probability-assignment-2.ipynb\" target=\"_parent\"><img src=\"https://colab.research.google.com/assets/colab-badge.svg\" alt=\"Open In Colab\"/></a>"
      ]
    },
    {
      "cell_type": "markdown",
      "metadata": {
        "id": "f27vL8ZRrUBk"
      },
      "source": [
        "# Probability Assigmment"
      ]
    },
    {
      "cell_type": "markdown",
      "metadata": {},
      "source": [
        "## Problem 1a: (10 Points)\n",
        "\n",
        "The heights of adult men in the United States are approximately normally distributed with a mean of 70 inches and a standard deviation of 3 inches. Heights of adult women are approximately normally distributed with a mean of 64.5 inches and a standard deviation of 2.5 inches.\n",
        "\n",
        "Graph the two distributions from 0 to 100 inches using the plotting framework of your choice ( Matplotlib, Seaborn etc.)"
      ]
    },
    {
      "cell_type": "markdown",
      "metadata": {
        "id": "TmdYikZ3rU3P"
      },
      "source": [
        "## Problem 1b: (10 Points)\n",
        "\n",
        "What is the probability that a female is between the heights of 65 inches and 70 inches? What is the probability that a female is between the heights of 65 inches and 70 inches given that they are at least 60 inches tall ( You can use 100 as the upper limit of the distribution )?\n",
        "\n",
        "(Hint: This is a probability assignment, not a calculus assignment. You do not need to calculate any integrals, just show the steps that you would take and the final result)"
      ]
    },
    {
      "cell_type": "markdown",
      "metadata": {
        "id": "kE_rjQ0frXAx"
      },
      "source": [
        "## Problem 1c: (20 Points)\n",
        "\n",
        "Lets say you conduct an experiment with a 100 trials where you measure a random man's height. Lets say the measurement that you take is always rounded down to an integer \n",
        "\n",
        "( ie. both a person with a height of 75.2 inches and a person of height 75.8 inches would be recorded as 75 inches thus making the distribution a discrete distribution instead of continuous). \n",
        "\n",
        "What do you expect the count of men with a height of 70 inches to be? What type of distribution do you expect it to be?\n",
        "\n",
        "( You do not need to answer these questions, it is simply something to think about to aid you with the next part )\n",
        "\n",
        "Calculate the probability distribution function of the \"counts\" of people out of 100 with a height of 70 inches. \n",
        "\n",
        "( Hint: You will have to find the categorical probability that a man is of height 70 )\n",
        "\n",
        "Simulate the experiment 1000 times to show the relationship on a plot. What is the relationship between number of times the experiment is run and how close it is to the true distribution\n",
        "\n",
        "( Hint: numpy has many functions that can allow you to simulate distribution functions )"
      ]
    },
    {
      "cell_type": "markdown",
      "metadata": {
        "id": "1bDf1YDTrZNE"
      },
      "source": [
        "## Problem 2a: (15 Points)\n",
        "\n",
        "* Given the circuit below, the probability that any switch $S$ is closed (current passes through ) is $p$? What is the probability that there is a signal at the output? Give your answer in terms of $p$"
      ]
    },
    {
      "cell_type": "markdown",
      "metadata": {
        "id": "wbzCFHB3rfsr"
      },
      "source": [
        "![Probability Circuit.png](data:image/png;base64,iVBORw0KGgoAAAANSUhEUgAABBQAAAICCAIAAADwIgl3AAAAAXNSR0IArs4c6QAAAARnQU1BAACxjwv8YQUAAAAJcEhZcwAADsMAAA7DAcdvqGQAACkwSURBVHhe7d29euJG3wdg+z0W2CLXHgEcgZ3mqdKmg9Ju0qVMl8aUdrftU6V5zBGYI8iVInAufgXIWAYZC9DHzOi+mwjb2V2k+fj/PCNx/fr6egUAAPCV/8v/CwAAcJTwAAAAVCI8AAAAlQgPAABAJcIDAABQifAAAABUIjwAAACVCA8AAEAlwgMAAFCJ8ADQjNV8Nh2Pr3fG4+lsvlrl3wWACF2/vr7mhwDUZDUbD+8X+YsPJs+vjzf5MQBExsoDQN3m00+SQ+bvf609ABAt4QGgZvO/nvKjq8nz8jW3XD5PRqOr798G+fcAIDq2LQHUq7BlyR4lANJi5QGgMU9/zGxSAiAhwgNAvQY//zLKD68W98PrzUOW8tcAEDXblgBqN5+Ob5/2bpkeTZ5//HYzcMcDABGz8gBQu5vHl+XDZLf+sLF4uh0Ox9N5/hIAIiQ8ADRhcPf48rp83osQWYIYF2+DmE/XHx8nUQAQCeEBoDGDm3WEyDJEIUIs7v/cZoXVbHx9u3uoKwBEQHgAaNpgs41plx+2nxO3+t9/F5Pn58n2awAQA+EBoA2Db9/zo/xz4gZ3Lz4EAoDICA8AtVrvRhpvHs/6fm/DajWb7nYojX4a5kcAEBnhAaB2i8XT/e1wuL4ZemM4vN/d3DD5/c7jWgGIlPAA0J7Rw9JWJQDiJTwA1Gpw92PzhNZR8Rmt2avJ83L5+vK+6rDe3nS9fdzS02125HmtAITPJ0wDAACVWHkAAAAqER4AAIBKhAcAAKAS4QEAAKhEeAAAACoRHgAAgEqEBwAAoBLhAQAAqER4AAAAKhEeAACASoQHAACgkuvX19f8EIDmXV9fbw8MvwBEx8oDQHt2ySFTPAaAKAgPAC2RFgCInfAA0AbJAYAECA8AjStNDu55ACA6wgNAsyQHAJIhPAA0SHIAICXCA0BTJAcAEiM8ADRCcgAgPcIDQP0kBwCSJDwA1ExyACBVwgNAnSQHABImPADURnIAIG3CA0A9JAcAkic8ANRAcgCgD4QHgEtJDgD0hPAAcBHJAYD+EB4Azic5ANArwgPAmSQHAPpGeAA4h+QAQA9dm+oASh3Gg92AKTkA0E9WHgD2ZdmgNB5sv57JXxdIDgRhNZ9Nx+O8nWbG4+lsvlrl3wW4mJUHgHdZtZUfncJASghWs/HwfpG/+GDy/Pp4kx8DXMTKA0BOciBi8+knySHz97/WHoCaCA8Aa5IDUZv/9ZQfXU2el1nD3Fgunyej0dX3b4P8ewAXsm0JYK00PBRHyC9/ALpT2LJkjxLQJCsPACXBYP1b24/B4PArmfPWK6BBT3/MbFICGiM8AOw7DAk7R74F3Rn8/MsoP7xa3A+vNw9Zyl8D1Mi2JWDNb9CLjg+MpcsU+RF0Zj4d3z7t3TI9mjz/+O1m4I4HoDbCAyA5fFBlVNw7Yy0MpDVeI8N+ulaz6a/3+wFinSBe3AUB1MS2Jeg7yaFvXPF0De4eX16Xzw+T3RamtcXT7Xh3G8R8mjWArek8/xpAdcID9FpWQORH9InrnrLBzTpCZBmiECEW93+uk8JqNv7rP69ry4fR1dOt+ACcTHiA/lJB9pmrn7rBzePLOiLkNp8TN7h727+0/GdxdTX6abh5AVCd8AA9VVo7bn4l2Tv5m3/zZVWdTNktPyRv8O17fvT2OXFvu5Zun0YPy5c7d1IDpxIeoI9Kq8bDMronLnzj7Zy3dcq5WP5nFZS2BOKzmo2vx5vHs74/n3W1mk1v3z52+m2R4eZx2xaWD1frB7r6RAjgVMID9I7k8KUjJXXU1XbpVZYfUrFYPN3fDofZBd0aDu/fosPV5Pe9RYbt50Is/lnmrwEqEh6gX7KSIj8qkBwOz8C2/MpfbBx+JRPdqZMfemj0sNze6bCajXdrDW56AM7jcx6gR0prRIPA1nkFdKRnT0tIz2o1/9+ff/z378Vi9zEPo9Ho++97nxE3n16/bWVy0wNwDuEB+kK9+KVT80PUZ097AOAMti1BL6gUqzjphMR+9kr//afGJwD6xsoDpE9yONXxGjqlU6dtAHAS4QESpzo82+GpS/K8aSEAVCc8QMrUhVShnQBQkXseIFkqQioqbRWl7QeAnhMeIE2SAyeRHwCoQniABEkOnEF+AOBLwgOkRnLgbPIDAMcJD5AUyYELyQ8AHCE8QDokB2ohPwDwGeEBEiE5UCP5AYBSwgOkQHKgdvIDAIeEB4ie5EBD5AcA9ggPEDfJgUbJDwAUCQ8QMcmBFsgPAOxcqzMgUpIDbdLeUrW7sq4mUIWVB4iSSo6WlbYu6w+xK15BVxOoQniA+EgOdEJ+SIxrB5xBeIDISA50SH5IhqsGnEd4gJhIDnROfkiAkQQ4m/AA0TDfEwj5IWpGEuASwgPEwXxPUOSHSBlJgAsJDxAB8z0Bkh+iYyQBLic8QOjM9wRLfoiIkQSohfAAQTPfEzj5IQpGEqAuwgOEy3xPFOSHwBlJgBoJDxAo8z0RkR+CZSQB6iU8QIjM90RHfgiQkQSonfAAwTHfEyn5IShGEqAJwgOExXxP1OSHQBhJgIYIDxAQ8z0JkB86ZyQBmiM8QCjM9yRDfuiQkQRolPAAQTDfkxj5oRNGEqBpwgN0z3xPkuSHlhlJgBYID9Ax8z0Jkx9aYyQB2nFtZIEOme/pA+28FoencXcOnWGgNcIDdMZ8T39o7ZcoPXvHObdAQ4QH6IZair7R5s9wRmzIOKtAc9zzAB1QRdFDpS38vOK4JyQHIEDCA7RNcqC35IemGUmAptm2BK2SHEAvqOLLs+Q0Ap0QHqA9JnvY0he+tHeKPjs5h2fSaQQaZdsStES1BDulLb+0j/RTxeSQMYYALbPyQE+FUKboffScRP2Z6uEhc3ganUOgOcIDfSQ5QCBC6IyBqzJWnBQ2atHmhTNaQlBsW6J3JAcIh77AlyRMCIrwQL9IDhAaPYIvyQ8QDuGBHpEcIEz6BV+SHyAQ7nmgL0onniba/5EZTneDI1SHnzk+dByetxaGmq4ullEUOic80AutJYetlv86SMaRkrQ/PejUMLD38ymdKGMpBMi2JdLX/vRT+ocfqYqArc86Zq/qxcM3e2T0SHtgMZZCgKw8kLj2k8NOh381REqv2fqsPi6eiv6cK60CgiI8kLLOpxxzHlSnvxSVno0vpXq6tA0Ih21LJCuEyab0rzuvJiBoq/lsOh5nlzY3Hk9n89Uq/y4VZGctPypQHZ4k4dNlLIVwWHkgTUEVIqqitK1m4+H9In/xweT59fEmP+YYfeQz1evjPpwu7QRCYOWBBIU2wZT+1dVrAoI2n36SHDJ//2vtoQIV4RHZefjyVFT5mTSUvk1jKbRMeCA1YRYi5rxUzf96yo+uJs/LdQ23tlw+T0ajq+/fBvn3+IzkUMW2WeUvCj77esJK36+xFNpk2xJJCbwQUSclp7BlyR6l0+kRnEfLgQ5ZeSAd4U8npf+Y0n828Xn6Y2aT0inUf5zNWAodEh5IRCyFiDkvLYOffxnlh1eL++H15iFL+WuOkBy4kLEUumLbEimIrhBROSVkPh3fPu3dMj2aPP/47Wbgjody2j910ZagfVYeiF6Mk0fpP6/0jRC8m8eX5cNkt/6wsXi6HQ7H03n+kgLVHjUylkL7hAfiFm8hYs5LyODu8eV1+bwXIbIEMd7dBjGfZhd34/1rPZS9//yoQHLgEsZSaJnwQMRiL0TMeUkZ3KwjRJYhChFicf/nevVhNRv/9Z/scr8uH0bZ137taXyQHGiIsRTaJDwQqzQKEXNecgabbUy7/LD5nLjB3cv2Ka6Db983X+0hyYFGGUuhNcIDUUqpEDHnpaeQET5+Ttzq37+vrka//Ny3O6klB1pgLIV2CA/EJ71CxJwXq9VsfD3ePJ71fSPSajWb3r597PTop2F+lJlPh/eL0cOPu35lB8mB1hhLoQUe1UpkEi5E1FjxKXzAdKnCp05vf7R3H0OtVdM+rQ4aZeWBmKQ9JZS+kdK3TBRGD0vJIT8qUMPRNGMpNEp4IBp9KETMeZEZ3P3YPKF1VHxGa/Zq8rxcvr7stifN/9wsTzzdZtdyrRdPa83eZ35UIDnQDmMpNMe2JeLQq0JE1UXstGFCoB1CE6w8EIG+TQClb630JECAVGwEwlgKTRAeCF0/CxFzHpGSHAiKsRRqJzwQtD4XIuY8oiM5ECBjKdRLeCBcChFzHhHRYQmWsRRqJDwQKIXIljmPKOiwBM5YCnURHgiRQqTInEfgdFiiYCyFWggPBEchcsicR7B0WCJiLIXL+ZwHwqIQOcLJScbuUsZ++bRJYqTdwiWsPBAQA/pxpaei9KQRsuIli/ry6bBEylgKlxAeCIVCpApzXuySuVg6LFEzlsLZhAeCoBCpzpwXL8kBwmEshfMID3RPIXIqc16MkmnnOizJMJbCGYQHOqYQOY85Ly6SA4TJWAqnEh7okkLkEua8WEgOEDJjKZxEeKAzCpHLmfPCJzlA+IylUJ3wQDcUInUx54VMcoBYGEuhIuGBDihE6mXOC5PkAHExlkIVwgNtU4g0wZwXGskBYmQshS8JD7RKIdIcc144JAeIl7EUjhMeaI9CpGnmvBBIDhA7YykcITzQEoVIO8x53ZIcIA3GUviM8EAbFCJtMud1RXKAlBhLoZTwQOMUIu0z57VPcoD0GEvhkPBAsxQiXTHntUlygFQZS2GP8ECDFCLdMue1Q3KAtBlLoUh4oCkKkRCY85omOUAfGEthR3igEQqRcJjzmiM5QH8YS2Hr2vRA7RQiAXJRznN43nYnLZlTqm1AdfoLCA/UzMAaLJfmJKWn67gYT6ZWAafSa+g54YE6GVID5wJVcUZsyMR4GrUHOI++Q5+554HaGEzDV3o5zquVUyU55EfA54yl9JmVB+qhEImIi1Xq7Ik/xlOnDcDl9CP6ycoDNTCAxqX00pxdOicvO107+Zcip8NCLUp7jbGU5Fl54FIKkUi5cEUnnY3DH47ovLnuUC99ir6x8sBFDJrxKr1MpRe0n44043hbuA4LtTOW0jdWHjifQiQBZrjPHG/Jh+ct/Javw0Jz9C/6w8oDZzJQpsElK/XlaYnuvOmw0KjS3lTa7yB2Vh44h0IkMWa4PVUa895Ja6L9N3pddFioncmRPrDywMkMjulx+frGFYcmlPYsv50hMcIDp5EcUuUi9odrDc2RH0iebUucQHIgSWc07MP/pYmO0ETBocNCC0yXJMzKA1UZCknV5c04lo6gw0I7SvtaE78OgPZZeaASyYG0ndTCD39YXwAOmTpJkvDA1wx/9EFpO88Um7q+AJzEoEF6hAe+YOCjJz4LD1/SHYAjTKMkRnjgGEMefXNqhNAdgC+ZTEmJG6b5lMGOHjqphesOQBWlY8Wpv6qAQFh5oJzkQM8dn9f1BeBUJlbSIDxQwgAHW4d9QUcAzmZ6JQHCA/sMbQDQEJMssXPPAx8Y1ACgOaVTaunkC2ESHngnOQBA0+QHoiY8kJMcAKAd8gPxEh5YkxwAoE3yA5ESHpAcAKAD8gMxEh76TnIAgK7ID0RHeOg1yQEAuiU/EBfhob8kBwAIgfxARISHnpIcACAc8gOxEB76SHIAgNDID0RBeOgdyQEAwiQ/ED7hoV8kBwAImfxA4ISHHpEcACB88gMhEx76QnIAgFjIDwRLeOgFyQEA4iI/ECbhIX2SAwDESH4gQMJD4iQHAIiX/EBohIeUSQ4AEDv5gaAID8mSHAAgDfID4WggPKxm46w5r41n8/xrtCw7+/lRgeQAAJGSHwhEoysPi3/yg869B5ppD/JM9jbzowLJAQCiJj8QAtuWUiM5AECq+pAfVvPZdDx++63vWvZqOpuvVvkP0C3hISlZB8uPCiQHAEhGyvlhNZ+Or4e390+LxSL/0lr26un+djjMIsTZAaLlTSgp73lpKTxkjaFwBtdNY3dfxDpKbn9o48hPjqflP3k9Ljal/S9vXg7v39rg0+32mwley+xN5UcFkgMAJCbR/DCfDm+fiqFhXxYhhh+KPrrQ1srDv3+/HWRJbN003trGJkoWC/n3n8yCw4efXDzdfmgyu5/86JMv7/v736Qan+QAAP2RXH5Yzca3T/nx1dXo4XmZvcWN5fJ5Msq/npWD938m9+vfyLS9benpfrcGUPD0x2GMzEJFSfpc3P9aU+L8/m2QH8VPcgCAvimd6GPND/M/3wvEyfPry93NrkwbDG4eX5YPu/zwXjXWsgll99P2vFTUyT0Po4dNmlw+TPIvXC3++7/i1Xkzmmxz5/L5vcl88qOfunnc/FVv/3/WILceb/KvxC5rjvlRQfYG8yMAIFGl031pYRC4+V+7VYfRw28lJdrg7veSqrGWTSj2vJyo/fCQJYeXu02aHNz99p4JSkyeXx63uXNwU2wy/yzzIyQHAOi1JPLD6r3+Hv3yc/nWkOFP779IrqcU3NuEYs9LRa2Hh0/bxIHRT8P8aO3mP7v0kNjdCueTHACA+PPD8p9d1f5piT349j0/OtUJm1Dseamgk21L1EByAAC2SguA2NYfOmfPSyXCQ5QkBwCgSH64lD0v1QQcHj7mvMKdNAcLWj1LhJIDAHAo2vxQuJ/h00K9eF/EhyqfloW88vB0+/aIrNV8+v7s38l/tnvGCnvf3h7atX6+1vuzsUo9/ZX/kZFmSMkBAPhMnPmhUNN9+hvhKvdF0Iawty2tH5GVNfj1p8rlX3nPDh9vu79/+7ny5FAMGvkfWde9823K/t35UYHkAADsxJgfCjVd2Yd/rT884fDXyAW1bEKx56WagMPDKJMfvps8v9+rXnzk77vRw/vHR7wrbFyLleQAAFQRXX748DEO98P11pNdgljNZ9PCp08XPgei7k0o9rxU0mh4GP2UH1xdvZ/uosJVKPHLj5fCB5KPNk/P+viYq5vH9SfN7SLGaPLwvHy5+5a//ODmcf1nFX608iNjgyA5AADVxZYfboof/rXeerLZKLI2vL1/31gyevix/bSwjdo3odjzUkXWtoLy/lzc/HOoKU8I+fcAAD6RFw0f5d8LT/E3wiXePoSh6PnoJpQPteTBj26/W6g8y/e8bP/vrcv/ugSEfc8D1hwAgHOVFgylpUUIBnePL8vlcxYhPlTx2av13pLXtw9hKKp1E4o9L5Vch1aGrmZve8eygPZSWJnqJckBALiQcuIIleeprDyES1cHAC4X1/oDgQsuPBy/h7o/JAcAoC7yA3UJb+Xh5jFr32s9XjmSHACAepUWEvIDp7JtKTiSAwDQBPnhkD0vpwruhumekxwAgEYpNriElYeA6MwAQNOsP3CJiFceiq08gQpbcgAAWqPw4Dyxhofj+Ti6N6UDAwAt63P5UXzvKq6TRBkejieHQ4G/R8kBAOhEP4uQ45WkGuy4XoSHPUG9ZckBAOhQ30qRU8tIVdmec8LDhbV7aDpsE5IDANC5XhUkF9ax6rSTw0NiyeFQa21CcgAAAtFaWZJYJdnDyu208BDm9d57C/X+IxtqE5IDABCUFoqTxJLDoT7UcgmGhz0BZgnJAQAIUKMlShRlZIB1Y2jSDw97Om8TjXZLAIBLNFeoxFhGdl43Buii8JDAKQihHafRkgCANDSUH2IMD3tkiUzfw8Oe9pt1eucQAIhdCxVRAiXQ5WcpxpMgPBzTdM+RHACAMKmCTnXGGRMeUtB0V9kjPwAAYWq0KEq+BKpy9noXHjpXyxnv/E3JDwBAaJoukJKsf049acJDN0497zW+izMueenfnmT/AQAiFWbJV69aqq8LT1SMFWAvwkO3aeGQ/AAABKuhQiXSMnJPaFVl+xIMD/X+Ixu6rg11SwCASzRXokRRRh6q8Z+dRqV3WnjIhHnha9TadZUfAICgNFqcRBEe6v1HJlnXnRweQpDMdZUfAIBAtFCWhJkfatSHKq6P4SGotyw/AACd609BUm+A6WHN1ovwEPh7lB8AgA71qhS5MDyo0KIMD5njFz66NyU/AACd6FsRcmp4UI/tiTU8ZIrXPoHrKj8AAC3rZ/lxPD+ovo6LODykR34AAFrT58Kj+N7VWicRHsIiPwAALVBycJ7/y/9LGEo7bWn3BgA4j+TA2YSH4MgPAEBzJAcuITyESH4AAJogOXAh4SFQ8gMAUC/JgcsJD+GSHwCAukgO1EJ4CJr8AABcTnKgLsJD6OQHAOASkgM1Eh4iID8AAOeRHKiX8BAH+QEAOJXkQO2Eh2jIDwB1Ws1n0/E4G0Zz4/F0Nl+t8u9C/LJmnR8VSA5c6FobiouBAOByq9l4eL/IX3wweX59vMmPIWIKBhpi5SEy1h8ALjWffpIcMn//a+2B+EkONEd4iI/8AHCJ+V9P+dHV5HmZjakby+XzZDS6+v5tkH8PIiU50CjblmJlaAA4S2HLkj1KJEd5QNOsPMSqdCCw/gBwgqc/ZjYpkRDJgRYIDxGTHwBON/j5l1F+eLW4H15vHrKUv4Z4SQ60w7al6BksAE40n45vn/ZumR5Nnn/8djNwxwNRUgzQGisP0bP+AHCim8eX5cNkt/6wsXi6HQ7H03n+EuIhOdAm4SEF8gPAiQZ3jy+vy+e9CJEliHF+G8R8mg2jO29fhdBkzTM/KpAcaI5tS+kwfACcZTWf/lrYxrR9BlMWHm6vPI2JsJn6aZ+Vh3RYfwA4y2CzjWm3BOFz4oiD5EAnhIekyA8A5xl8+54fFT4n7uk2G0HX7FoiNFmzzI8KJAdaIDykRn4AOGY1G1+PN49nfc8Dq9Vsevv2sdOjn4br/9w8ZuPpxvPkanH/q/hAOCQHOiQ8JKh0+JAfAN4sFk/3t8NhNjBuDYf3b9HhavL73d7jWoc/jbL/5Z9l/hK6lbXY/KhAcqA1wkOa5AeAM4welgd3SK/+999Flin+485pAiA50DnhIVnyA0CJwd2PzRNaR8VntGavJs/L5evLbtXh/Umtw/vF9vlL0LGsOeZHBZIDLfOo1sQZaAAgASZ0AmHlIXHWHwAgdpID4RAe0ic/AEC8JAeCIjz0gvwAADGSHAiN8NAX8gMAxEVyIEDCQ4/IDwAQC8mBMAkP/SI/AED4JAeCJTz0jvwAACGTHAiZz3noKQMTQBW70dIISTtM0ATOykNPlQ5D1h8AioqjohGSFkgOhE946C/5AeAI4yEtkxyIgvDQa/IDQCkjIS2THIiF8NB38gPAHmUcLdPkiIjwgPwA8E4ZR8s0OeIiPLAmPwBklHG0TJMjOsIDOfkB6DllHC3T5IiR8MA7+QHoLWUcLdPkiJTwwAfyA9BDyjhapskRL+GBffID0CvKOFqmyRE14YES8gPQE8o4WqbJETvhgXLyA5A8ZRwt0+RIgPDAp+QHIGHKOFqmyZEG4YFj5AcgSco4WqbJkQzhgS/ID0BilHG0TJMjJcIDX5MfgGQo42iZJkdihAcqkR+ABCjjaJkmR3qEB6qSH4CoKeNomSZHkoQHTiA/AJFSxtEyTY5UXWvHnMqACATocGjajUtGLVqmyZEw4YFzGBaBcJSOSMcZr2iOKZK0CQ+cyeAIdO6M2JAxUtEckyPJc88DZyodCs+byAHOIDkQGsmBPhAeOJ/8AHRFciA0kgM9ITxwEfkBCEc2Iu3kX4JWSA70h3seqIFBE2jT4Zjz2YBT/SfhbCZBesXKAzUoHSJLB1OA2h2p0hRwNE1yoG+sPFAbAyi0RjgvOj7OHJ4r4xJ1MfHRQ1YeqE3pcKnE+dpqPpuOx9mZyo3H09l8tcq/CweyVpIfUaFQ66SS23bmWuR/IuEpvTqSA8mz8kDNDKYnWc3Gw/tF/uKDyfPr401+DO9Uk3uqDC97J62FEaney2QIDZDJjt6y8kDNSodO5U65+fST5JD5+19rDxzQlfrJdQ+N5ECfCQ/UT36oaP7XU350NXleZqdtY7l8noxGV9+/DfLvwZZO1GeufjgkB3rOtiWaYnj9SmHLkj1KfEWH2jk8FcfPw6k/X4vS63U5Q2jn9ESw8kBTSgfThibU6D39MbNJic+pV4oufOPtnLfsb7lc/mcVGEK7pSdCRnigQSa/owY//zLKD68W98PrzUOW8tewo1750pFRJeoBxxAaFD0RtmxbonEG3M/Np+Pbp71bpkeT5x+/3Qzc8cCa7vOZL89MMqdOGwiBqwA7wgNtMOx+bjWb/nq/HyDWCeLFXRC9p+McUXpyvhTp2dMSuuX8Q5FtS7ShdJA9b+5PzuDu8eV1+fww2W1hWls83Y6Lt0GsZttPkfvwRZKmXjnujFMR79kzhHZIT4Q9wgMtMfkdM7hZR4gsQxQixOL+z3l+eDX/8/5q8jFekDT1ShUnnZDYz54htBN6IhwSHmiPye8rg5vHl+XDLiO8fU7cfHr7NPn9t582L0ifeqW67LR8eWaq/EwUSt+FIbQ5eiKUEh5olcnvS4Nv3/Oj/HPiVrM/nkYPv7kBoifUK2fIzk/pKfrs6/EqfTuG0CboifAZ4YG2mfxy69sYxpvHs77fxrBazaa3bx87PfppuP6pX+8Xk9/vPHypF9Qrl8hO1J78G2kpfV/yQ730RDjC05bohqF5HR7ePmC61PZTp+fT612a2Bo9LF9kiRTpFFSntTTHuYXjrDzQjdKBuHTI7qcsIWyf1HrzmJ2qjc3NEJJDqtQrnKS0bRhCL6cnwpeEBzrT98lvcPdj84TWUfEhStmryfNy+Soh9Ip6hTPID7XTE6EK25bomMGantMFuIT2UxdnEiqy8kDHSofm0kEc0qNe4UKG0FroiVCd8ED3TH70k3qFWhhCL6QnwkmEB4Jg8qNv1CvUyBB6Nj0RTiU8EAqTH/2hXqF2htAz6IlwBuGBgJj86AP1Cg0xhJ5ET4TzCA+ExeRH2tQrNMoQWpGeCGfzqFZCZFg/tDsn+my8NGzaoaUd5/zAJaw8EKLSQbx0uO+J4nvv83mImnqF1hhCj9AT4ULCA4Ey+e2Y8hOgXqFlhtBSeiJcTnggXCa/jMk+AeoVOmEI3aMnQi2EB4LW88nPVJcAF5EOyQ87eiLURXggdL2d/Ex1CXAR6Zz8kNEToUbCAxHo4eRnqkuAi0ggep4f9ESol/BAHHo1+ZnqEuAiEpTe5gc9EWonPBCNnkx+proEuIgEqIf5QU+EJggPxCT5yc9UlwAXkWD1Kj/oidAQ4YHIJDz5meoS4CISuJ7kBz0RmiM8EJ8kJz9TXQJcRKKQfH7QE6FRwgNRSmzyM9UlwEUkIgnnBz0RmiY8EKtkJj9TXQJcRKKTZH7QE6EFwgMRS2DyM9UlwEUkUonlBz0R2iE8ELeoJz9TXQJcRKKWTH7QE6E1wgPRi3TyM9UlwEUkAQnkBz0R2iQ8kILoJj9TXQJcRJIRdX7QE6FlwgOJiGjyM9UlwEUkMZHmBz0R2ic8kI4oJj9TXQJcRJIUXX7QE6ET17oZiel8Ojn8B+z+dlNdAlxE0hZLC9cToSvCAwnqalIp/XuP0wHjol6hD8Jv53oidEh4IE0tTy1nxIaM3hcX9Qr9EXJr1xOhW+55IE2lE8l5Jf6XJIc+UK/QK20OoSfRE6FzwgPJCnbyy5jq4qJeoYcCHEL1RAiBbUskrunJ5ss/32wXO1eQPgun/euJEAjhgfQ1OuXs/eGf/bGH/wZdLwrqFQihF+iJEA7blkhf6QRTOhWdau8POTKTmeRipF6BTHNDaEV6IgRFeKAXOp/8DnX7t/Ml9QrsdDiE6okQGtuW6JFGp7oqXWnvH9BC72tndu8JoyU9134dLzlAgIQH+qW5YrpKVxIe4mWohEznQ4qeCJ2zbYl+MfFwBs0GtrrtC3oihEB4oHdMP5xEg4GirnqEngiBEB7ooyYmoS9X8+0gipF6BQ613y/0RAiHex7gTIdh4Hhv2vt5XS8QR0KdawRHtPYLET0RgiI8wPmq54dTkwZtKq2BXCD4kuwNPSQ8wPk+mziL3UphGgWXCc6j70DfCA9wkSO/eDtCvwuQGghOpddAD7lhGtpmZg1T6XU5LxxCH0gO0E9WHqAG1UtMPS5w6iGoQk+B3hIeoDbHI4S+FgtVERynj0CfCQ9Qs8NpVS+LjtoIPqN3QM+55wFqlk2ie/JvEI/Sq1ZaMxGl1Xw2HY+zK5obj6ez+WqVf5fPZScrPyowykGvWHkAKKdOStJqNh7eL/IXH0yeXx9v8mNK6BFAxsoDQDnrDwmaTz9JDpm//7X28DnJAdgSHgA+JT8kZv7XU350NXleZpd3Y7l8noxGV9+/DfLvsUdyAHZsWwL4gsopFYUtS/YoVab9A0VWHgC+UFonWX+I29MfM5uUKpAcgD3CA8DX5IckDH7+ZZQfXi3uh9ebhyzlrzkkOQCHbFsCqEotFb/5dHz7tHfL9Gjy/OO3m4E7Hj7Q2oFSVh4AqrL+EL+bx5flw2S3/rCxeLodDsfTef4SyQH4nPAAcAL5IX6Du8eX1+XzXoTIEsS4cBvEfJpd1a3epYrsPedHBZIDsGXbEsDJVFepWM2nvxa2MeXPYMqSw+1TT5/HpG0Dx1l5ADiZ9YdUDDbbmHZLEJvPiVvN/ni6Gj38JjlsSQ5AkfAAcA75IRmDb9/zo+3nxC3/WWwfxrRV3MyUtOy95kcFkgOwR3gAOJP8EJnVbHw93jye9T0OrFaz6e3bx06PfhrmR+sNTGvLh9Hi/tcexAfJAahIeAA4n/wQm8Xi6f52+LaqcH09HN6/RYerye93+49rLaxKJCw7D/lRgeQAlBIeAC4iP6Rh9LDM74+++c/k6urpr80zluZ/ZdFis5kpWZIDcBJPWwKogQosCqvV/H9//vHfvxeL3QOWRqPR99/3PyNu87il7WEWKl4OFiSSod0CpxIeAOqhDiMuWixwBtuWAOpRWnWV1mfQOckBOI/wAFAb+YEoSA7A2YQHgDrJDwROcgAuITwA1Ex+IFiSA3AhN0wDNEKVlozdpYz98mmTwOWsPAA0orQms/4QneIli/rySQ5ALYQHgKbID7FL5mJJDkBdhAeABskP8ZIcAA4JDwDNkh9ilEzBLTkA9RIeABonP8RFcgD4jPAA0Ab5IRaSA8ARwgNAS+SH8EkOAMcJDwDtkR9CJjkAfEl4AGiV/BAmyQGgCuEBoG3yQ2gkB4CKhAeADsgP4ZAcAKoTHgC6IT+EQHIAOInwANAZ+aFbkgPAqYQHgC7JD12RHADOIDwAdEx+aJ/kAHAe4QGge/JDmyQHgLMJDwBBkB/aITkAXEJ4AAiF/NA0yQHgQsIDQEDkh+ZIDgCXuzbcAIRGdXiew/O2O2mSA0AthAeAEKkRT1J6uo6THADOIDwABEqlWMUZsSEjOQCcxz0PAIEqrQvPq5VTJTnkRwBtsfIAEDRVY6mzQ5TkAHAJKw8AQSutEc8unZOXna6d/EuRkxyAoFh5AIiACrLopLNx+MMRnTfXHQiNlQeACJTWi6WVZT8dqafjLbUlByBAVh4AoiEtfOb4XBbj4oPkAITJygNANNSOpb48LdGdN8kBCJaVB4DIWH/YU2Ui2ztpTcx9jV4XkzUQCCsPAJFRR/aNKw6EQ3gAiI9qsj9cayAoti0BEJMz7gc4/F+amPua2LZkjgZCY+UBgJhcXk/HUpFLDkCArDwAEJmTFh/aWXYA6AnhAYD4fLZHqDipnZQxAKhCeAAgPmffYGDWA7iE8ABArE6NEKY8gAu5YRqAWJ0UBiQHgMtZeQAgeseXIMx0AHURHgBIxGGEMMcB1Et4AAAAKnHPAwAAUInwAAAAVCI8AAAAlQgPAABAJcIDAABQifAAAABUIjwAAACVCA8AAEAlwgMAAFCJ8AAAAFQiPAAAAJUIDwAAQCXCAwAAUInwAAAAVCI8AAAAlQgPAABAJcIDAABQifAAAABUIjwAAACVCA8AAEAlwgMAAFCJ8AAAAFQiPAAAAJUIDwAAQCXCAwAAUInwAAAAVCI8AAAAlQgPAABAJcIDAABQifAAAABUIjwAAACVCA8AAEAlwgMAAFCJ8AAAAFQiPAAAAJUIDwAAQCXCAwAAUInwAAAAVCI8AAAAlQgPAABAJcIDAABQifAAAABUIjwAAACVCA8AAEAlwgMAAFCJ8AAAAFQiPAAAAJUIDwAAQCXCAwAAUInwAAAAVCI8AAAAFVxd/T/Yj/hBKuv9EQAAAABJRU5ErkJggg==)"
      ]
    },
    {
      "cell_type": "markdown",
      "metadata": {
        "id": "xzrWsqM5rdDN"
      },
      "source": [
        "## Problem 2b: (15 Points)\n",
        "\n",
        "Given the same circuit above, if a signal is observed at the end, what is the probability that $S_3$ is open ( no current going through ) . Give your answer in terms of $p$. "
      ]
    },
    {
      "cell_type": "markdown",
      "metadata": {
        "id": "iltzEmEpRWNJ"
      },
      "source": [
        "## Problem 3a (20 points)\n",
        "\n",
        "It follows that those with a larger height will be generally heavier than those with a smaller height. This is just a broad generalization and does not always apply. [Here](https://www.kaggle.com/mustafaali96/weight-height/version/1) is a link to a data set that contains anonymous entries on peoples' gender, height and weight. Download this dataset ( It is pretty small don't worry ). You might need to make a Kaggle account. Kaggle is an online community of data scientists and has a large collection of open source datasets for many different purposes. \n",
        "\n",
        "Familiarize yourself with the package pandas, as you can use it to easily unpack the csv into manipulatable datatypes. If you are using [colab](https://colab.research.google.com/), which you most likely are, ensure that you have logged in with the university Google account. This following code segment can be used to mount your google drive file system to the colab environment.\n",
        "\n",
        "Using the data find two values for covariance between height and weight. There should be one value for male and female. \n",
        "\n",
        "(Hint: Make sure to store all intermediate values like averages and counts as they might be useful for the extra credit)\n"
      ]
    },
    {
      "cell_type": "code",
      "execution_count": null,
      "metadata": {
        "id": "5nGlYaTaRSBs"
      },
      "outputs": [],
      "source": [
        "from google.colab import drive\n",
        "drive.mount('/content/drive')"
      ]
    },
    {
      "cell_type": "markdown",
      "metadata": {
        "id": "ljpCcXIqaA1x"
      },
      "source": [
        "## Problem 3b: (10 points)\n",
        "\n",
        "Find the correlation between height and weight for Males and Females"
      ]
    },
    {
      "cell_type": "markdown",
      "metadata": {
        "id": "lDQFp2KNRRg2"
      },
      "source": [
        "## Extra credit: (5 points)\n",
        "\n",
        "Using matplotlib's or seaborn's 3D graphing functionality, create a wireframe graph of the multivariate probability distribution of heights and weights for either men or women ( You don't have to do both ). Use the data and calculated values from problem 3 to solve this problem.\n",
        "\n",
        "( Hint: You can assume both distributions are normal. Use [this](https://en.wikipedia.org/wiki/Multivariate_normal_distribution) link to help in understanding )\n"
      ]
    }
  ],
  "metadata": {
    "colab": {
      "collapsed_sections": [],
      "include_colab_link": true,
      "name": "Probability-Assignment.ipynb",
      "provenance": [],
      "toc_visible": true
    },
    "kernelspec": {
      "display_name": "Python 3",
      "name": "python3"
    },
    "language_info": {
      "name": "python"
    }
  },
  "nbformat": 4,
  "nbformat_minor": 0
}
